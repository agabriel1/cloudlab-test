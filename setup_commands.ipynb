su seed
ip addr
this will show you what your ip address is for a future step

Configure and launch Jupyter¶
From your VM terminal, run the following commands

Generate default configuration file:
jupyter notebook --generate-config

Change default password:
jupyter notebook password

Launch jupyter notebook
use ip from above in next step
jupyter notebook --ip 10.0.2.15 --no-browser 
